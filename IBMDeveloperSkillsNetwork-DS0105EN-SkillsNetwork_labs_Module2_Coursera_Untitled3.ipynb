{
  "metadata": {
    "language_info": {
      "codemirror_mode": {
        "name": "python",
        "version": 3
      },
      "file_extension": ".py",
      "mimetype": "text/x-python",
      "name": "python",
      "nbconvert_exporter": "python",
      "pygments_lexer": "ipython3",
      "version": "3.8"
    },
    "kernelspec": {
      "name": "python",
      "display_name": "Pyolite",
      "language": "python"
    }
  },
  "nbformat_minor": 4,
  "nbformat": 4,
  "cells": [
    {
      "cell_type": "markdown",
      "source": "Title : Peer graded assignment",
      "metadata": {}
    },
    {
      "cell_type": "markdown",
      "source": "Introduction\n   Peer graded assignment for the topic tools for data science",
      "metadata": {}
    },
    {
      "cell_type": "markdown",
      "source": "Data science languages are python, R, Javascript",
      "metadata": {}
    },
    {
      "cell_type": "markdown",
      "source": "Data science libraries are tensor flow, scikit learn, theano",
      "metadata": {}
    },
    {
      "cell_type": "markdown",
      "source": "Tools for data science\n  Python\n  Github\n  Jupiter notebook etc",
      "metadata": {}
    },
    {
      "cell_type": "markdown",
      "source": "a=63\nb=59\na+b=?",
      "metadata": {}
    },
    {
      "cell_type": "code",
      "source": "a=59\nb=64\nprint(a*b)\nprint(a+b)",
      "metadata": {},
      "execution_count": null,
      "outputs": []
    },
    {
      "cell_type": "code",
      "source": "minutes = 562\nhours = ?\nprint(minutes/60)",
      "metadata": {},
      "execution_count": null,
      "outputs": []
    },
    {
      "cell_type": "markdown",
      "source": "Objectives\nCollecting data.\nProcessing data.\nExploring and visualizing data.\nAnalyzing (data) and/or applying machine learning (to data)\nDeciding (or planning) based on acquired insight.\n",
      "metadata": {}
    },
    {
      "cell_type": "markdown",
      "source": "Author Name\nMohammad Tayyab Khan",
      "metadata": {}
    }
  ]
}